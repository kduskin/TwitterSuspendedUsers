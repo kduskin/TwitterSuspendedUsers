{
 "cells": [
  {
   "cell_type": "code",
   "execution_count": 1,
   "id": "7bb89c44-24eb-4dfa-8e61-801f5741a1fd",
   "metadata": {},
   "outputs": [],
   "source": [
    "###Once the users have been identified, collect their twitter activity during the 30 days preceding and following the suspended user's suspension\n",
    "#Then process data"
   ]
  },
  {
   "cell_type": "code",
   "execution_count": 2,
   "id": "b7ee2f26-ca81-4431-a5d2-99b1c5cb1ddd",
   "metadata": {},
   "outputs": [],
   "source": [
    "from src.DBtools import copy_from_db, connect_to_db, run_query, insert_dataframe\n",
    "from src.fetch_user_tweets import fetch_from_list\n",
    "from src.data_processing import load_data, get_counts\n",
    "import pandas as pd\n",
    "import os\n",
    "import csv \n",
    "\n",
    "from glob import glob"
   ]
  },
  {
   "cell_type": "code",
   "execution_count": 3,
   "id": "ff6fc49e-1641-45ea-b214-beb89fea10f7",
   "metadata": {},
   "outputs": [],
   "source": [
    "su_df = pd.read_csv(\"data/suspended_users.csv\")\n",
    "su_df[\"suspension_date\"] = pd.to_datetime(su_df[\"suspension_date\"])\n",
    "databases = json.load(open(\"data/databases.json\",\"r\"))"
   ]
  },
  {
   "cell_type": "code",
   "execution_count": 4,
   "id": "3c104825-9902-413d-974f-3f51eba3cfa6",
   "metadata": {},
   "outputs": [],
   "source": [
    "top_retweeters = pd.read_csv(\"data/top_retweeters.csv\",index_col=0)\n",
    "moderate_retweeters = pd.read_csv(\"data/moderate_retweeters.csv\",index_col=0)"
   ]
  },
  {
   "cell_type": "markdown",
   "id": "53bf3228-9cdb-4d57-b3ab-8de7ca63a868",
   "metadata": {},
   "source": [
    "## Get data from internal databases"
   ]
  },
  {
   "cell_type": "code",
   "execution_count": null,
   "id": "9fbe0acf-11be-490c-b6b3-0f694432933c",
   "metadata": {},
   "outputs": [
    {
     "name": "stdout",
     "output_type": "stream",
     "text": [
      "Collecting top retweeter activity for AlexBerenson from vaccines database...\n"
     ]
    }
   ],
   "source": [
    "base_query = \"\"\"SELECT * FROM {} WHERE user_id IN (SELECT retweeter_user_id FROM {} WHERE suspended_user = '{}') AND created_at > '{}' AND created_at < '{}'\"\"\"\n",
    "\n",
    "for db_name in databases[\"dbs\"]:\n",
    "    for group,df in [(\"top\",top_retweeters),(\"moderate\",moderate_retweeters)]:\n",
    "        connection = connect_to_db(host=databases[\"host\"], user=databases[\"username\"], db=db_name)\n",
    "        cur = connection.cursor()\n",
    "        cur.execute(f\"CREATE TEMPORARY TABLE {group} (suspended_user text not null, retweeter_user_id bigint not null)\")\n",
    "        connection.commit()\n",
    "        \n",
    "        #insert the list of user ids for each suspended user\n",
    "        insert_dataframe(connection, df[[\"suspended_user\",\"retweeter_user_id\"]], group)\n",
    "\n",
    "        for row in su_df.itertuples():\n",
    "            su = row.user_screen_name\n",
    "            print(f\"Collecting {group} retweeter activity for {su} from {db_name} database...\")\n",
    "            suspension_date = row.suspension_date\n",
    "            start_date = suspension_date - pd.Timedelta(\"32 d\")\n",
    "            end_date = suspension_date + pd.Timedelta(\"32 d\")\n",
    "            outfile = \"data/database_retweeter_activity/{}_{}_retweeter_activity_{}.csv\".format(su,group,db_name)\n",
    "            query = base_query.format(databases[\"tweet_table\"],\n",
    "                                    group,\n",
    "                                    su,\n",
    "                                    str(start_date),\n",
    "                                    str(end_date))\n",
    "            copy_from_db(query,connection,outfile)\n",
    "\n",
    "        cur.close()"
   ]
  },
  {
   "cell_type": "markdown",
   "id": "200c7e80-f85a-4191-9a74-1c1b7be793d2",
   "metadata": {},
   "source": [
    "### Get tweets from Twitter API"
   ]
  },
  {
   "cell_type": "code",
   "execution_count": null,
   "id": "42b99a4f-3dc6-4e31-b713-fe85741e0a7a",
   "metadata": {},
   "outputs": [],
   "source": [
    "for group,df in [(\"top\",top_retweeters),(\"moderate\",moderate_retweeters)]:\n",
    "    for row in su_df.itertuples():\n",
    "        su = row.user_screen_name\n",
    "        suspension_date = row.suspension_date\n",
    "        start_date = (suspension_date - pd.Timedelta(\"32 d\")).strftime('%Y-%m-%dT%H:%M:00Z')\n",
    "        end_date = (suspension_date + pd.Timedelta(\"32 d\")).strftime('%Y-%m-%dT%H:%M:00Z')\n",
    "        outdir = \"data/twitter_api_retweeter_activity/{}_{}_retweeter_activity\".format(su,group)\n",
    "        if not os.path.isdir(outdir):\n",
    "            os.makedirs(outdir)\n",
    "        \n",
    "        print(f\"Collecting {group} retweeter activity for {su} from the Twitter API between {start_date} and {end_date}\")\n",
    "\n",
    "        fetch_args = {\"credentials\": \"data/tw_academic_api_credentials.json\",\n",
    "                    \"account_list\":df[df.suspended_user==su].retweeter_user_id.astype(str).values,\n",
    "                    \"output\":outdir,\n",
    "                    \"starting\":start_date,\n",
    "                    \"stopping\":end_date}\n",
    "    \n",
    "        fetch_from_list(**fetch_args)"
   ]
  },
  {
   "cell_type": "markdown",
   "id": "755d701c-9336-458a-84a9-13e80252adb1",
   "metadata": {
    "tags": []
   },
   "source": [
    "## Process the data"
   ]
  },
  {
   "cell_type": "code",
   "execution_count": null,
   "id": "05016ad0-569b-4581-b188-6b5550d3ad12",
   "metadata": {},
   "outputs": [],
   "source": [
    "covid_keyword_file = \"data/updated_covid_keywords.txt\"\n",
    "\n",
    "count_list = []\n",
    "for group in [\"top\",\"moderate\"]:\n",
    "    for su in su_df.user_screen_name:\n",
    "        print(f\"Processing data for {su}....\")  \n",
    "        db_data_files = glob(f\"data/database_retweeter_activity/{su}_{group}_retweeter_activity*\")\n",
    "        tw_data_files = glob(f\"data/twitter_api_retweeter_activity/{su}_{group}_retweeter_activity/*\")\n",
    "\n",
    "        data = load_data(su,\n",
    "                         su_df,\n",
    "                         covid_keyword_file,\n",
    "                         db_data_files,\n",
    "                         tw_data_files)\n",
    "         \n",
    "        data.to_csv(f\"data/tweet_data/{su}_{group}_retweeter_combined_api_db_tweets.csv\",\n",
    "                    index=False,\n",
    "                    quoting=csv.QUOTE_NONNUMERIC)\n",
    "\n",
    "        print(\"Data loaded, getting counts...\")\n",
    "        daily_counts = get_counts(su, su_df,data)\n",
    "\n",
    "        daily_counts.to_csv(f\"data/count_data/{su}_{group}_retweeter_tweet_counts.csv\",index=False)\n",
    "        daily_counts[\"suspended_user\"]=su\n",
    "        daily_counts[\"group\"]=group\n",
    "        \n",
    "        count_list.append(daily_counts)"
   ]
  },
  {
   "cell_type": "code",
   "execution_count": null,
   "id": "34b9732c-442b-40d5-be86-37b0af2b3390",
   "metadata": {},
   "outputs": [],
   "source": []
  }
 ],
 "metadata": {
  "kernelspec": {
   "display_name": "Python 3 (ipykernel)",
   "language": "python",
   "name": "python3"
  },
  "language_info": {
   "codemirror_mode": {
    "name": "ipython",
    "version": 3
   },
   "file_extension": ".py",
   "mimetype": "text/x-python",
   "name": "python",
   "nbconvert_exporter": "python",
   "pygments_lexer": "ipython3",
   "version": "3.10.6"
  }
 },
 "nbformat": 4,
 "nbformat_minor": 5
}
